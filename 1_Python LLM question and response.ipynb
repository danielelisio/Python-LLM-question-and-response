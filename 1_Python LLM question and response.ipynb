{
 "cells": [
  {
   "cell_type": "markdown",
   "metadata": {},
   "source": [
    "# Agentic AI\n",
    "## Forming questions and examining LLM responses"
   ]
  },
  {
   "cell_type": "markdown",
   "metadata": {},
   "source": [
    "Running the code below illustrates a standard Python set up to load environment variabes (keys), \n",
    "construct nuanced questions for LLM model submission and format responses.\n"
   ]
  },
  {
   "cell_type": "code",
   "execution_count": 8,
   "metadata": {},
   "outputs": [],
   "source": [
    "# First let's do an import\n",
    "from dotenv import load_dotenv\n"
   ]
  },
  {
   "cell_type": "code",
   "execution_count": 9,
   "metadata": {},
   "outputs": [
    {
     "data": {
      "text/plain": [
       "True"
      ]
     },
     "execution_count": 9,
     "metadata": {},
     "output_type": "execute_result"
    }
   ],
   "source": [
    "# Next it's time to load the API keys into environment variables\n",
    "# NOTE:  please create a text file in local directory to contain environment variables.\n",
    "#        Name the file .env\n",
    "\n",
    "load_dotenv(override=True)"
   ]
  },
  {
   "cell_type": "code",
   "execution_count": 10,
   "metadata": {},
   "outputs": [
    {
     "name": "stdout",
     "output_type": "stream",
     "text": [
      "OpenAI API Key exists and begins sk-proj-\n"
     ]
    }
   ],
   "source": [
    "# Check the keys that are in the .env you created above.\n",
    "\n",
    "# NOTE: be sure to have an OpenAI api key in order to use LLM models. This requires making a user account\n",
    "'''        at www.openai.com     This should be straight forward.\n",
    "             Format of .env file:\n",
    "             OPENAI_API_KEY=sk-prog-abcdefghijklmnop    (example dummy key)'''\n",
    "\n",
    "\n",
    "import os\n",
    "openai_api_key = os.getenv('OPENAI_API_KEY')\n",
    "\n",
    "if openai_api_key:\n",
    "    print(f\"OpenAI API Key exists and begins {openai_api_key[:8]}\")\n",
    "else:\n",
    "    print(\"OpenAI API Key not set - please head to the troubleshooting guide in the setup folder\")\n",
    "    \n"
   ]
  },
  {
   "cell_type": "code",
   "execution_count": 11,
   "metadata": {},
   "outputs": [],
   "source": [
    "# And now - the all important import statement\n",
    "# If you get an import error - head over to troubleshooting guide\n",
    "\n",
    "from openai import OpenAI"
   ]
  },
  {
   "cell_type": "code",
   "execution_count": 12,
   "metadata": {},
   "outputs": [],
   "source": [
    "# And now we'll create an instance of the OpenAI class\n",
    "# If you get a NameError - head over to the guides folder to learn about NameErrors\n",
    "\n",
    "openai = OpenAI()"
   ]
  },
  {
   "cell_type": "code",
   "execution_count": 13,
   "metadata": {},
   "outputs": [],
   "source": [
    "# Create a list of messages in the familiar OpenAI format\n",
    "\n",
    "messages = [{\"role\": \"user\", \"content\": \"What is 2+2?\"}]"
   ]
  },
  {
   "cell_type": "code",
   "execution_count": 14,
   "metadata": {},
   "outputs": [
    {
     "name": "stdout",
     "output_type": "stream",
     "text": [
      "2 + 2 equals 4.\n"
     ]
    }
   ],
   "source": [
    "# And now call it! Any problems, head to the troubleshooting guide\n",
    "# This uses GPT 4.1 nano (inexpensive model)\n",
    "\n",
    "response = openai.chat.completions.create(\n",
    "    model=\"gpt-4.1-nano\",\n",
    "    messages=messages\n",
    ")\n",
    "\n",
    "print(response.choices[0].message.content)\n"
   ]
  },
  {
   "cell_type": "code",
   "execution_count": 15,
   "metadata": {},
   "outputs": [],
   "source": [
    "# And now - let's ask for a question:\n",
    "\n",
    "question = \"Please propose a hard, challenging question to assess someone's IQ. Respond only with the question.\"\n",
    "messages = [{\"role\": \"user\", \"content\": question}]\n"
   ]
  },
  {
   "cell_type": "code",
   "execution_count": 16,
   "metadata": {},
   "outputs": [
    {
     "name": "stdout",
     "output_type": "stream",
     "text": [
      "If 3 typists can type 3 pages in 3 minutes, how many typists will it take to type 18 pages in 6 minutes?\n"
     ]
    }
   ],
   "source": [
    "# ask it - this uses GPT 4.1 mini, still cheap but more powerful than nano\n",
    "\n",
    "response = openai.chat.completions.create(\n",
    "    model=\"gpt-4.1-mini\",\n",
    "    messages=messages\n",
    ")\n",
    "\n",
    "question = response.choices[0].message.content\n",
    "\n",
    "print(question)\n"
   ]
  },
  {
   "cell_type": "code",
   "execution_count": 17,
   "metadata": {},
   "outputs": [],
   "source": [
    "# form a new messages list\n",
    "messages = [{\"role\": \"user\", \"content\": question}]\n"
   ]
  },
  {
   "cell_type": "code",
   "execution_count": 19,
   "metadata": {},
   "outputs": [
    {
     "name": "stdout",
     "output_type": "stream",
     "text": [
      "Let's analyze the problem step by step:\n",
      "\n",
      "**Given:**\n",
      "- 3 typists can type 3 pages in 3 minutes.\n",
      "\n",
      "**We need to find:**\n",
      "- How many typists will be needed to type 18 pages in 6 minutes.\n",
      "\n",
      "---\n",
      "\n",
      "### Step 1: Find the typing rate per typist.\n",
      "\n",
      "If 3 typists type 3 pages in 3 minutes, then:\n",
      "\n",
      "- Total pages typed per minute by 3 typists = 3 pages / 3 minutes = 1 page per minute.\n",
      "  \n",
      "So, 3 typists type 1 page per minute combined.\n",
      "\n",
      "Then, typing rate per typist per minute:\n",
      "\n",
      "\\[\n",
      "\\frac{1 \\text{ page per minute}}{3 \\text{ typists}} = \\frac{1}{3} \\text{ page per minute per typist}\n",
      "\\]\n",
      "\n",
      "---\n",
      "\n",
      "### Step 2: Calculate the total pages per minute needed.\n",
      "\n",
      "We want to type 18 pages in 6 minutes:\n",
      "\n",
      "\\[\n",
      "\\text{Pages per minute required} = \\frac{18 \\text{ pages}}{6 \\text{ minutes}} = 3 \\text{ pages per minute}\n",
      "\\]\n",
      "\n",
      "---\n",
      "\n",
      "### Step 3: Find number of typists needed to achieve this rate.\n",
      "\n",
      "Since each typist types \\(\\frac{1}{3}\\) pages per minute, the number of typists \\(n\\) needed for 3 pages per minute is:\n",
      "\n",
      "\\[\n",
      "n \\times \\frac{1}{3} = 3 \\implies n = 3 \\times 3 = 9\n",
      "\\]\n",
      "\n",
      "---\n",
      "\n",
      "### **Answer:**\n",
      "\n",
      "**9 typists** are needed to type 18 pages in 6 minutes.\n"
     ]
    }
   ],
   "source": [
    "# Ask it again\n",
    "\n",
    "response = openai.chat.completions.create(\n",
    "    model=\"gpt-4.1-mini\",\n",
    "    messages=messages\n",
    ")\n",
    "\n",
    "answer = response.choices[0].message.content\n",
    "print(answer)\n"
   ]
  },
  {
   "cell_type": "code",
   "execution_count": 20,
   "metadata": {},
   "outputs": [
    {
     "data": {
      "text/markdown": [
       "Let's analyze the problem step by step:\n",
       "\n",
       "**Given:**\n",
       "- 3 typists can type 3 pages in 3 minutes.\n",
       "\n",
       "**We need to find:**\n",
       "- How many typists will be needed to type 18 pages in 6 minutes.\n",
       "\n",
       "---\n",
       "\n",
       "### Step 1: Find the typing rate per typist.\n",
       "\n",
       "If 3 typists type 3 pages in 3 minutes, then:\n",
       "\n",
       "- Total pages typed per minute by 3 typists = 3 pages / 3 minutes = 1 page per minute.\n",
       "  \n",
       "So, 3 typists type 1 page per minute combined.\n",
       "\n",
       "Then, typing rate per typist per minute:\n",
       "\n",
       "\\[\n",
       "\\frac{1 \\text{ page per minute}}{3 \\text{ typists}} = \\frac{1}{3} \\text{ page per minute per typist}\n",
       "\\]\n",
       "\n",
       "---\n",
       "\n",
       "### Step 2: Calculate the total pages per minute needed.\n",
       "\n",
       "We want to type 18 pages in 6 minutes:\n",
       "\n",
       "\\[\n",
       "\\text{Pages per minute required} = \\frac{18 \\text{ pages}}{6 \\text{ minutes}} = 3 \\text{ pages per minute}\n",
       "\\]\n",
       "\n",
       "---\n",
       "\n",
       "### Step 3: Find number of typists needed to achieve this rate.\n",
       "\n",
       "Since each typist types \\(\\frac{1}{3}\\) pages per minute, the number of typists \\(n\\) needed for 3 pages per minute is:\n",
       "\n",
       "\\[\n",
       "n \\times \\frac{1}{3} = 3 \\implies n = 3 \\times 3 = 9\n",
       "\\]\n",
       "\n",
       "---\n",
       "\n",
       "### **Answer:**\n",
       "\n",
       "**9 typists** are needed to type 18 pages in 6 minutes."
      ],
      "text/plain": [
       "<IPython.core.display.Markdown object>"
      ]
     },
     "metadata": {},
     "output_type": "display_data"
    }
   ],
   "source": [
    "from IPython.display import Markdown, display\n",
    "\n",
    "display(Markdown(answer))\n",
    "\n"
   ]
  },
  {
   "cell_type": "markdown",
   "metadata": {},
   "source": [
    "# Congratulations!\n",
    "\n",
    "First ask the LLM to pick a business area that might be worth exploring for an Agentic AI opportunity.\n",
    "Then ask the LLM to present a pain-point in that industry - something challenging that mightbe ripe for an Agentic solution.\n",
    "Finally have 3 third LLM call propose the Agentic AI solution."
   ]
  },
  {
   "cell_type": "code",
   "execution_count": 21,
   "metadata": {},
   "outputs": [],
   "source": [
    "question = \"Propose an agentic AI solution to the problem of adverse selection in the life insurance industry\"\n",
    "messages = [{\"role\": \"user\", \"content\": question}]"
   ]
  },
  {
   "cell_type": "code",
   "execution_count": 22,
   "metadata": {},
   "outputs": [
    {
     "data": {
      "text/markdown": [
       "Certainly! Here’s a proposal for an **agentic AI solution** aimed at mitigating **adverse selection** in the life insurance industry:\n",
       "\n",
       "---\n",
       "\n",
       "### Background:  \n",
       "**Adverse selection** occurs when individuals with higher risk are more likely to purchase insurance, leading insurers to attract predominantly high-risk policyholders. This imbalance can cause financial losses and pricing inefficiencies.\n",
       "\n",
       "---\n",
       "\n",
       "### Agentic AI Solution Overview:\n",
       "\n",
       "**Deploy a proactive, multi-agent AI system that interacts intelligently with potential policyholders and internal models to dynamically assess, price, and manage risk profiles, thereby reducing information asymmetry and adverse selection.**\n",
       "\n",
       "---\n",
       "\n",
       "### Key Components:\n",
       "\n",
       "1. **Intelligent Data-Gathering Agent**  \n",
       "   - Proactively engage potential clients through digital touchpoints (web/app chats, questionnaires, wearable devices).  \n",
       "   - Use adaptive questioning to elicit high-fidelity personal health, lifestyle, and behavioral data without privacy invasion.  \n",
       "   - Integrate data from IoT devices (e.g., fitness trackers), health records (with consent), and external databases.\n",
       "\n",
       "2. **Risk Assessment & Profile Agent**  \n",
       "   - Employ advanced machine learning models to process gathered data and construct detailed, dynamic risk profiles.  \n",
       "   - Continuously update profiles with incoming real-time data and behavioral signals (e.g., health changes, lifestyle improvements).  \n",
       "   - Detect inconsistencies or potential misinformation through anomaly detection algorithms.\n",
       "\n",
       "3. **Pricing & Policy Design Agent**  \n",
       "   - Utilize reinforcement learning to customize policy offerings and premium pricing tailored to the individual risk profile.  \n",
       "   - Simulate potential policyholder behaviors and outcomes to optimize policy terms that balance insurer risk and attractiveness to clients.  \n",
       "   - Offer dynamic pricing that adjusts in response to changes in risk signals over time.\n",
       "\n",
       "4. **Engagement & Education Agent**  \n",
       "   - Provide personalized feedback and educational content that encourages healthier behaviors and transparency.  \n",
       "   - Incentivize clients to share accurate data through rewards (e.g., premium discounts for verified health improvements tracked via wearables).  \n",
       "   - Foster trust and willingness to provide authentic information.\n",
       "\n",
       "5. **Fraud & Manipulation Detection Agent**  \n",
       "   - Monitor for attempts to game the system or conceal risks, flagging suspicious profiles for human review.  \n",
       "   - Use multi-agent consensus or adversarial AI techniques to ensure robustness.\n",
       "\n",
       "---\n",
       "\n",
       "### How This Mitigates Adverse Selection:\n",
       "\n",
       "- **Reduced Information Asymmetry:** By acquiring richer, continuously updated data, the insurer gains a more accurate view of applicant risks beyond self-reported information.  \n",
       "- **Customized Pricing:** Tailored premiums discourage high-risk individuals from obtaining underpriced policies and reward lower-risk clients fairly.  \n",
       "- **Behavioral Incentives:** Encouraging healthy lifestyle changes lowers risk over time, creating a virtuous cycle aligning insurer and policyholder interests.  \n",
       "- **Dynamic Monitoring:** Continuous risk reassessment and adaptive pricing reduce incentives for clients to withhold information.  \n",
       "- **Fraud Reduction:** Early detection of inconsistencies minimizes risks from deliberate misinformation.\n",
       "\n",
       "---\n",
       "\n",
       "### Implementation Considerations:\n",
       "\n",
       "- Ensure **privacy and ethical use** of data with transparent consent mechanisms.  \n",
       "- Integrate human oversight to handle edge cases and maintain fairness.  \n",
       "- Use explainable AI techniques to maintain trust and regulatory compliance.  \n",
       "- Phase rollout starting with pilot programs before scaling.\n",
       "\n",
       "---\n",
       "\n",
       "### Summary:\n",
       "\n",
       "By deploying a coordinated multi-agent AI system that actively collects and interprets rich data, dynamically adjusts pricing and policy terms, and engages clients in behaviorally informed ways, life insurers can significantly reduce adverse selection, improve risk management, and create more equitable, sustainable insurance markets.\n",
       "\n",
       "---\n",
       "\n",
       "If you want, I can also help outline concrete technical architectures or algorithms for each agent!"
      ],
      "text/plain": [
       "<IPython.core.display.Markdown object>"
      ]
     },
     "metadata": {},
     "output_type": "display_data"
    }
   ],
   "source": [
    "\n",
    "# Then make the first call:\n",
    "\n",
    "response = openai.chat.completions.create(\n",
    "    model=\"gpt-4.1-mini\",\n",
    "    messages=messages\n",
    ")\n",
    "\n",
    "# Then read the business idea:\n",
    "\n",
    "business_idea = response.choices[0].message.content\n",
    "\n",
    "display(Markdown(business_idea))\n",
    "\n",
    "# And repeat!"
   ]
  },
  {
   "cell_type": "markdown",
   "metadata": {},
   "source": []
  }
 ],
 "metadata": {
  "kernelspec": {
   "display_name": ".venv",
   "language": "python",
   "name": "python3"
  },
  "language_info": {
   "codemirror_mode": {
    "name": "ipython",
    "version": 3
   },
   "file_extension": ".py",
   "mimetype": "text/x-python",
   "name": "python",
   "nbconvert_exporter": "python",
   "pygments_lexer": "ipython3",
   "version": "3.13.3"
  }
 },
 "nbformat": 4,
 "nbformat_minor": 2
}
